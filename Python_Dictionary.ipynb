{
  "nbformat": 4,
  "nbformat_minor": 0,
  "metadata": {
    "colab": {
      "provenance": [],
      "toc_visible": true,
      "authorship_tag": "ABX9TyOudfVSQ9ZfvPL1qz28hsoJ",
      "include_colab_link": true
    },
    "kernelspec": {
      "name": "python3",
      "display_name": "Python 3"
    },
    "language_info": {
      "name": "python"
    }
  },
  "cells": [
    {
      "cell_type": "markdown",
      "metadata": {
        "id": "view-in-github",
        "colab_type": "text"
      },
      "source": [
        "<a href=\"https://colab.research.google.com/github/cracksre/Azure/blob/main/Python_Dictionary.ipynb\" target=\"_parent\"><img src=\"https://colab.research.google.com/assets/colab-badge.svg\" alt=\"Open In Colab\"/></a>"
      ]
    },
    {
      "cell_type": "code",
      "execution_count": null,
      "metadata": {
        "id": "ah-w7pwNAHz7",
        "colab": {
          "base_uri": "https://localhost:8080/"
        },
        "outputId": "99df24f8-4c98-4a37-932e-47039e525f24"
      },
      "outputs": [
        {
          "output_type": "stream",
          "name": "stdout",
          "text": [
            "CRV\n"
          ]
        }
      ],
      "source": [
        "# Dictionary in Python to retrieve the model\n",
        "thisdict = {\n",
        "    \"make\" : \"Honda\",\n",
        "    \"model\": \"CRV\",\n",
        "    \"year\": 2024\n",
        "}\n",
        "x = thisdict[\"model\"]\n",
        "print (x)"
      ]
    },
    {
      "cell_type": "code",
      "source": [
        "# Dictionary in Python to use get () and retrieve the model\n",
        "thisdict = {\n",
        "    \"make\" : \"Honda\",\n",
        "    \"model\": \"CRV\",\n",
        "    \"year\": 2024\n",
        "}\n",
        "x = thisdict.get(\"model\")\n",
        "print(x)"
      ],
      "metadata": {
        "colab": {
          "base_uri": "https://localhost:8080/"
        },
        "id": "X1EoTuyeBC4P",
        "outputId": "2197584b-9486-476c-cf0f-2e85979e1820"
      },
      "execution_count": null,
      "outputs": [
        {
          "output_type": "stream",
          "name": "stdout",
          "text": [
            "CRV\n"
          ]
        }
      ]
    },
    {
      "cell_type": "markdown",
      "source": [],
      "metadata": {
        "id": "PI1WHGaYDZ2D"
      }
    },
    {
      "cell_type": "markdown",
      "source": [
        "# Accessing Keys in the Dictionary using Get Keys"
      ],
      "metadata": {
        "id": "2shYtp8CDdrE"
      }
    },
    {
      "cell_type": "markdown",
      "source": [
        "# Dictionary\n"
      ],
      "metadata": {
        "id": "V3ACuaiFANDX"
      }
    },
    {
      "cell_type": "code",
      "source": [
        "# the Keys method will return all the keys in the dictionary\n",
        "\n",
        "thisdict = {\n",
        "    \"make\" : \"Honda\",\n",
        "    \"model\": \"CRV\",\n",
        "    \"year\": 2024\n",
        "}\n",
        "x = thisdict.keys()\n",
        "print(x)\n",
        "\n",
        "thisdict[\"color\"] = \"white\"\n",
        "\n",
        "print(thisdict)\n"
      ],
      "metadata": {
        "colab": {
          "base_uri": "https://localhost:8080/"
        },
        "id": "kzaLQYYXDoOr",
        "outputId": "8fbdd1bf-1d03-4b8d-c4e2-f68fd2d241e9"
      },
      "execution_count": null,
      "outputs": [
        {
          "output_type": "stream",
          "name": "stdout",
          "text": [
            "dict_keys(['make', 'model', 'year'])\n",
            "{'make': 'Honda', 'model': 'CRV', 'year': 2024, 'color': 'white'}\n"
          ]
        }
      ]
    },
    {
      "cell_type": "code",
      "source": [],
      "metadata": {
        "id": "b5Roa0bGCUuK"
      },
      "execution_count": null,
      "outputs": []
    }
  ]
}